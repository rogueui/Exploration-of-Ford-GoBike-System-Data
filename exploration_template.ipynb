{
 "cells": [
  {
   "cell_type": "markdown",
   "metadata": {},
   "source": [
    "# Communication Data Findings\n",
    "\n",
    "## Table of Content\n",
    "- [Part-I : Data Wrangling](#wrangle)\\\n",
    "    [A.Gathering](#gather)\\\n",
    "    [B.Assessing](#assess)\\\n",
    "    [C.Cleaning](#clean)\n",
    "- [Part-II : Data Visualization](#visual)\\\n",
    "    [A.Univariate](#uni)\\\n",
    "    [B.Bivariate](#bi)\\\n",
    "    [C.Multivariate](#multi)"
   ]
  },
  {
   "cell_type": "code",
   "execution_count": 1,
   "metadata": {},
   "outputs": [],
   "source": [
    "import numpy as np\n",
    "import matplotlib.pyplot as plt\n",
    "import pandas as pd\n",
    "import seaborn as sns\n",
    "import requests\n",
    "import zipfile\n",
    "%matplotlib inline"
   ]
  },
  {
   "cell_type": "markdown",
   "metadata": {},
   "source": [
    "<a id = 'wrangle'></a>\n",
    "## Part-I : Data Wrangling\n",
    "\n",
    "In Data Wrangling, we'll **gather** the data, **acces** it and **clean** it, Basically we'll structure it in such a way that it will be feasibly for further analysis."
   ]
  },
  {
   "cell_type": "markdown",
   "metadata": {},
   "source": [
    "<a id = 'gather'></a>\n",
    "> ### A.Data Gathering"
   ]
  },
  {
   "cell_type": "code",
   "execution_count": 2,
   "metadata": {},
   "outputs": [],
   "source": [
    "# Requesting for .zip file\n",
    "\n",
    "url = 'https://s3.amazonaws.com/baywheels-data/202003-baywheels-tripdata.csv.zip'\n",
    "req = requests.get(url)\n",
    "url_content = req.content\n",
    "\n",
    "trip_data = open('202003-baywheels-tripdata.zip', 'wb')\n",
    "trip_data.write(url_content)\n",
    "trip_data.close()"
   ]
  },
  {
   "cell_type": "code",
   "execution_count": 3,
   "metadata": {},
   "outputs": [],
   "source": [
    "# Extracting .zip file\n",
    "\n",
    "with zipfile.ZipFile('202003-baywheels-tripdata.zip', 'r') as myzip:\n",
    "    myzip.extractall()"
   ]
  },
  {
   "cell_type": "code",
   "execution_count": 4,
   "metadata": {},
   "outputs": [
    {
     "data": {
      "text/html": [
       "<div>\n",
       "<style scoped>\n",
       "    .dataframe tbody tr th:only-of-type {\n",
       "        vertical-align: middle;\n",
       "    }\n",
       "\n",
       "    .dataframe tbody tr th {\n",
       "        vertical-align: top;\n",
       "    }\n",
       "\n",
       "    .dataframe thead th {\n",
       "        text-align: right;\n",
       "    }\n",
       "</style>\n",
       "<table border=\"1\" class=\"dataframe\">\n",
       "  <thead>\n",
       "    <tr style=\"text-align: right;\">\n",
       "      <th></th>\n",
       "      <th>duration_sec</th>\n",
       "      <th>start_time</th>\n",
       "      <th>end_time</th>\n",
       "      <th>start_station_id</th>\n",
       "      <th>start_station_name</th>\n",
       "      <th>start_station_latitude</th>\n",
       "      <th>start_station_longitude</th>\n",
       "      <th>end_station_id</th>\n",
       "      <th>end_station_name</th>\n",
       "      <th>end_station_latitude</th>\n",
       "      <th>end_station_longitude</th>\n",
       "      <th>bike_id</th>\n",
       "      <th>user_type</th>\n",
       "      <th>rental_access_method</th>\n",
       "    </tr>\n",
       "  </thead>\n",
       "  <tbody>\n",
       "    <tr>\n",
       "      <th>0</th>\n",
       "      <td>35187</td>\n",
       "      <td>2020-03-31 20:42:10.0790</td>\n",
       "      <td>2020-04-01 06:28:37.8440</td>\n",
       "      <td>462.0</td>\n",
       "      <td>Cruise Terminal at Pier 27</td>\n",
       "      <td>37.804648</td>\n",
       "      <td>-122.402087</td>\n",
       "      <td>24.0</td>\n",
       "      <td>Spear St at Folsom St</td>\n",
       "      <td>37.789677</td>\n",
       "      <td>-122.390428</td>\n",
       "      <td>10982</td>\n",
       "      <td>Customer</td>\n",
       "      <td>NaN</td>\n",
       "    </tr>\n",
       "    <tr>\n",
       "      <th>1</th>\n",
       "      <td>14568</td>\n",
       "      <td>2020-03-31 22:45:25.5010</td>\n",
       "      <td>2020-04-01 02:48:13.7730</td>\n",
       "      <td>42.0</td>\n",
       "      <td>San Francisco City Hall (Polk St at Grove St)</td>\n",
       "      <td>37.778650</td>\n",
       "      <td>-122.418230</td>\n",
       "      <td>370.0</td>\n",
       "      <td>Jones St at Post St</td>\n",
       "      <td>37.787327</td>\n",
       "      <td>-122.413278</td>\n",
       "      <td>12617</td>\n",
       "      <td>Customer</td>\n",
       "      <td>NaN</td>\n",
       "    </tr>\n",
       "    <tr>\n",
       "      <th>2</th>\n",
       "      <td>35990</td>\n",
       "      <td>2020-03-31 15:08:22.3310</td>\n",
       "      <td>2020-04-01 01:08:12.9900</td>\n",
       "      <td>391.0</td>\n",
       "      <td>1st St at Younger Ave</td>\n",
       "      <td>37.355030</td>\n",
       "      <td>-121.904436</td>\n",
       "      <td>397.0</td>\n",
       "      <td>Gish Rd at 1st St</td>\n",
       "      <td>37.361867</td>\n",
       "      <td>-121.909315</td>\n",
       "      <td>12812</td>\n",
       "      <td>Customer</td>\n",
       "      <td>NaN</td>\n",
       "    </tr>\n",
       "    <tr>\n",
       "      <th>3</th>\n",
       "      <td>1068</td>\n",
       "      <td>2020-03-31 23:55:00.4260</td>\n",
       "      <td>2020-04-01 00:12:49.0200</td>\n",
       "      <td>456.0</td>\n",
       "      <td>Arguello Blvd at Geary Blvd</td>\n",
       "      <td>37.781468</td>\n",
       "      <td>-122.458806</td>\n",
       "      <td>107.0</td>\n",
       "      <td>17th St at Dolores St</td>\n",
       "      <td>37.763015</td>\n",
       "      <td>-122.426497</td>\n",
       "      <td>12955</td>\n",
       "      <td>Customer</td>\n",
       "      <td>NaN</td>\n",
       "    </tr>\n",
       "    <tr>\n",
       "      <th>4</th>\n",
       "      <td>3300</td>\n",
       "      <td>2020-03-31 23:00:55.6410</td>\n",
       "      <td>2020-03-31 23:55:56.6110</td>\n",
       "      <td>6.0</td>\n",
       "      <td>The Embarcadero at Sansome St</td>\n",
       "      <td>37.804770</td>\n",
       "      <td>-122.403234</td>\n",
       "      <td>24.0</td>\n",
       "      <td>Spear St at Folsom St</td>\n",
       "      <td>37.789677</td>\n",
       "      <td>-122.390428</td>\n",
       "      <td>13050</td>\n",
       "      <td>Customer</td>\n",
       "      <td>NaN</td>\n",
       "    </tr>\n",
       "  </tbody>\n",
       "</table>\n",
       "</div>"
      ],
      "text/plain": [
       "   duration_sec                start_time                  end_time  \\\n",
       "0         35187  2020-03-31 20:42:10.0790  2020-04-01 06:28:37.8440   \n",
       "1         14568  2020-03-31 22:45:25.5010  2020-04-01 02:48:13.7730   \n",
       "2         35990  2020-03-31 15:08:22.3310  2020-04-01 01:08:12.9900   \n",
       "3          1068  2020-03-31 23:55:00.4260  2020-04-01 00:12:49.0200   \n",
       "4          3300  2020-03-31 23:00:55.6410  2020-03-31 23:55:56.6110   \n",
       "\n",
       "   start_station_id                             start_station_name  \\\n",
       "0             462.0                     Cruise Terminal at Pier 27   \n",
       "1              42.0  San Francisco City Hall (Polk St at Grove St)   \n",
       "2             391.0                          1st St at Younger Ave   \n",
       "3             456.0                    Arguello Blvd at Geary Blvd   \n",
       "4               6.0                  The Embarcadero at Sansome St   \n",
       "\n",
       "   start_station_latitude  start_station_longitude  end_station_id  \\\n",
       "0               37.804648              -122.402087            24.0   \n",
       "1               37.778650              -122.418230           370.0   \n",
       "2               37.355030              -121.904436           397.0   \n",
       "3               37.781468              -122.458806           107.0   \n",
       "4               37.804770              -122.403234            24.0   \n",
       "\n",
       "        end_station_name  end_station_latitude  end_station_longitude  \\\n",
       "0  Spear St at Folsom St             37.789677            -122.390428   \n",
       "1    Jones St at Post St             37.787327            -122.413278   \n",
       "2      Gish Rd at 1st St             37.361867            -121.909315   \n",
       "3  17th St at Dolores St             37.763015            -122.426497   \n",
       "4  Spear St at Folsom St             37.789677            -122.390428   \n",
       "\n",
       "   bike_id user_type rental_access_method  \n",
       "0    10982  Customer                  NaN  \n",
       "1    12617  Customer                  NaN  \n",
       "2    12812  Customer                  NaN  \n",
       "3    12955  Customer                  NaN  \n",
       "4    13050  Customer                  NaN  "
      ]
     },
     "execution_count": 4,
     "metadata": {},
     "output_type": "execute_result"
    }
   ],
   "source": [
    "df = pd.read_csv('202003-baywheels-tripdata.csv')\n",
    "df.head()"
   ]
  },
  {
   "cell_type": "markdown",
   "metadata": {},
   "source": [
    "<a id='assess'></a>\n",
    "> ### B. Data Assessing"
   ]
  },
  {
   "cell_type": "code",
   "execution_count": 5,
   "metadata": {},
   "outputs": [
    {
     "data": {
      "text/html": [
       "<div>\n",
       "<style scoped>\n",
       "    .dataframe tbody tr th:only-of-type {\n",
       "        vertical-align: middle;\n",
       "    }\n",
       "\n",
       "    .dataframe tbody tr th {\n",
       "        vertical-align: top;\n",
       "    }\n",
       "\n",
       "    .dataframe thead th {\n",
       "        text-align: right;\n",
       "    }\n",
       "</style>\n",
       "<table border=\"1\" class=\"dataframe\">\n",
       "  <thead>\n",
       "    <tr style=\"text-align: right;\">\n",
       "      <th></th>\n",
       "      <th>duration_sec</th>\n",
       "      <th>start_time</th>\n",
       "      <th>end_time</th>\n",
       "      <th>start_station_id</th>\n",
       "      <th>start_station_name</th>\n",
       "      <th>start_station_latitude</th>\n",
       "      <th>start_station_longitude</th>\n",
       "      <th>end_station_id</th>\n",
       "      <th>end_station_name</th>\n",
       "      <th>end_station_latitude</th>\n",
       "      <th>end_station_longitude</th>\n",
       "      <th>bike_id</th>\n",
       "      <th>user_type</th>\n",
       "      <th>rental_access_method</th>\n",
       "    </tr>\n",
       "  </thead>\n",
       "  <tbody>\n",
       "    <tr>\n",
       "      <th>36622</th>\n",
       "      <td>2111</td>\n",
       "      <td>2020-03-06 09:05:28.1050</td>\n",
       "      <td>2020-03-06 09:40:39.3400</td>\n",
       "      <td>163.0</td>\n",
       "      <td>Lake Merritt BART Station</td>\n",
       "      <td>37.797320</td>\n",
       "      <td>-122.265320</td>\n",
       "      <td>187.0</td>\n",
       "      <td>Jack London Square</td>\n",
       "      <td>37.796248</td>\n",
       "      <td>-122.279352</td>\n",
       "      <td>12894</td>\n",
       "      <td>Customer</td>\n",
       "      <td>NaN</td>\n",
       "    </tr>\n",
       "    <tr>\n",
       "      <th>94046</th>\n",
       "      <td>489</td>\n",
       "      <td>2020-03-09 18:06:30</td>\n",
       "      <td>2020-03-09 18:14:40</td>\n",
       "      <td>NaN</td>\n",
       "      <td>NaN</td>\n",
       "      <td>37.761094</td>\n",
       "      <td>-122.436172</td>\n",
       "      <td>110.0</td>\n",
       "      <td>17th &amp; Folsom Street Park (17th St at Folsom St)</td>\n",
       "      <td>37.763708</td>\n",
       "      <td>-122.415204</td>\n",
       "      <td>110177</td>\n",
       "      <td>Subscriber</td>\n",
       "      <td>clipper</td>\n",
       "    </tr>\n",
       "    <tr>\n",
       "      <th>73941</th>\n",
       "      <td>694</td>\n",
       "      <td>2020-03-05 15:25:57</td>\n",
       "      <td>2020-03-05 15:37:32</td>\n",
       "      <td>NaN</td>\n",
       "      <td>NaN</td>\n",
       "      <td>37.336406</td>\n",
       "      <td>-121.895223</td>\n",
       "      <td>NaN</td>\n",
       "      <td>NaN</td>\n",
       "      <td>37.336542</td>\n",
       "      <td>-121.882121</td>\n",
       "      <td>190302</td>\n",
       "      <td>Subscriber</td>\n",
       "      <td>app</td>\n",
       "    </tr>\n",
       "    <tr>\n",
       "      <th>14170</th>\n",
       "      <td>430</td>\n",
       "      <td>2020-03-13 16:33:55.2510</td>\n",
       "      <td>2020-03-13 16:41:05.8190</td>\n",
       "      <td>305.0</td>\n",
       "      <td>Ryland Park</td>\n",
       "      <td>37.342725</td>\n",
       "      <td>-121.895617</td>\n",
       "      <td>291.0</td>\n",
       "      <td>Autumn Parkway at Coleman Ave</td>\n",
       "      <td>37.341335</td>\n",
       "      <td>-121.903183</td>\n",
       "      <td>12871</td>\n",
       "      <td>Customer</td>\n",
       "      <td>NaN</td>\n",
       "    </tr>\n",
       "    <tr>\n",
       "      <th>96143</th>\n",
       "      <td>629</td>\n",
       "      <td>2020-03-04 08:04:06</td>\n",
       "      <td>2020-03-04 08:14:36</td>\n",
       "      <td>107.0</td>\n",
       "      <td>17th St at Dolores St</td>\n",
       "      <td>37.763015</td>\n",
       "      <td>-122.426497</td>\n",
       "      <td>59.0</td>\n",
       "      <td>S Van Ness Ave at Market St</td>\n",
       "      <td>37.774814</td>\n",
       "      <td>-122.418954</td>\n",
       "      <td>586861</td>\n",
       "      <td>Subscriber</td>\n",
       "      <td>app</td>\n",
       "    </tr>\n",
       "    <tr>\n",
       "      <th>73073</th>\n",
       "      <td>155</td>\n",
       "      <td>2020-03-11 09:54:42</td>\n",
       "      <td>2020-03-11 09:57:18</td>\n",
       "      <td>310.0</td>\n",
       "      <td>San Fernando St at 4th St</td>\n",
       "      <td>37.335885</td>\n",
       "      <td>-121.885660</td>\n",
       "      <td>NaN</td>\n",
       "      <td>NaN</td>\n",
       "      <td>37.336027</td>\n",
       "      <td>-121.877377</td>\n",
       "      <td>572289</td>\n",
       "      <td>Subscriber</td>\n",
       "      <td>app</td>\n",
       "    </tr>\n",
       "    <tr>\n",
       "      <th>137702</th>\n",
       "      <td>95</td>\n",
       "      <td>2020-03-29 15:53:52</td>\n",
       "      <td>2020-03-29 15:55:27</td>\n",
       "      <td>481.0</td>\n",
       "      <td>O'Farrell St at Masonic Ave</td>\n",
       "      <td>37.781131</td>\n",
       "      <td>-122.447374</td>\n",
       "      <td>481.0</td>\n",
       "      <td>O'Farrell St at Masonic Ave</td>\n",
       "      <td>37.781131</td>\n",
       "      <td>-122.447374</td>\n",
       "      <td>456732</td>\n",
       "      <td>Subscriber</td>\n",
       "      <td>app</td>\n",
       "    </tr>\n",
       "    <tr>\n",
       "      <th>119439</th>\n",
       "      <td>870</td>\n",
       "      <td>2020-03-04 18:05:59</td>\n",
       "      <td>2020-03-04 18:20:30</td>\n",
       "      <td>75.0</td>\n",
       "      <td>Market St at Franklin St</td>\n",
       "      <td>37.773793</td>\n",
       "      <td>-122.421239</td>\n",
       "      <td>NaN</td>\n",
       "      <td>NaN</td>\n",
       "      <td>37.748766</td>\n",
       "      <td>-122.420221</td>\n",
       "      <td>909613</td>\n",
       "      <td>Subscriber</td>\n",
       "      <td>app</td>\n",
       "    </tr>\n",
       "    <tr>\n",
       "      <th>120211</th>\n",
       "      <td>473</td>\n",
       "      <td>2020-03-11 11:31:15</td>\n",
       "      <td>2020-03-11 11:39:09</td>\n",
       "      <td>NaN</td>\n",
       "      <td>NaN</td>\n",
       "      <td>37.774317</td>\n",
       "      <td>-122.414141</td>\n",
       "      <td>24.0</td>\n",
       "      <td>Spear St at Folsom St</td>\n",
       "      <td>37.789677</td>\n",
       "      <td>-122.390428</td>\n",
       "      <td>557324</td>\n",
       "      <td>Subscriber</td>\n",
       "      <td>app</td>\n",
       "    </tr>\n",
       "    <tr>\n",
       "      <th>128647</th>\n",
       "      <td>703</td>\n",
       "      <td>2020-03-06 16:04:19</td>\n",
       "      <td>2020-03-06 16:16:02</td>\n",
       "      <td>493.0</td>\n",
       "      <td>Folsom St at 7th St</td>\n",
       "      <td>37.776664</td>\n",
       "      <td>-122.407908</td>\n",
       "      <td>NaN</td>\n",
       "      <td>NaN</td>\n",
       "      <td>37.760369</td>\n",
       "      <td>-122.414785</td>\n",
       "      <td>218460</td>\n",
       "      <td>Customer</td>\n",
       "      <td>app</td>\n",
       "    </tr>\n",
       "    <tr>\n",
       "      <th>22062</th>\n",
       "      <td>612</td>\n",
       "      <td>2020-03-10 22:42:23.4960</td>\n",
       "      <td>2020-03-10 22:52:35.7810</td>\n",
       "      <td>186.0</td>\n",
       "      <td>Lakeside Dr at 14th St</td>\n",
       "      <td>37.801319</td>\n",
       "      <td>-122.262642</td>\n",
       "      <td>233.0</td>\n",
       "      <td>4th Ave at E 12th St (Temporary Location)</td>\n",
       "      <td>37.795913</td>\n",
       "      <td>-122.255547</td>\n",
       "      <td>1276</td>\n",
       "      <td>Customer</td>\n",
       "      <td>NaN</td>\n",
       "    </tr>\n",
       "    <tr>\n",
       "      <th>16373</th>\n",
       "      <td>489</td>\n",
       "      <td>2020-03-12 17:51:41.0160</td>\n",
       "      <td>2020-03-12 17:59:50.9340</td>\n",
       "      <td>238.0</td>\n",
       "      <td>MLK Jr Way at University Ave</td>\n",
       "      <td>37.871719</td>\n",
       "      <td>-122.273068</td>\n",
       "      <td>266.0</td>\n",
       "      <td>Parker St at Fulton St</td>\n",
       "      <td>37.862464</td>\n",
       "      <td>-122.264791</td>\n",
       "      <td>3627</td>\n",
       "      <td>Customer</td>\n",
       "      <td>NaN</td>\n",
       "    </tr>\n",
       "    <tr>\n",
       "      <th>73774</th>\n",
       "      <td>1818</td>\n",
       "      <td>2020-03-21 18:52:31</td>\n",
       "      <td>2020-03-21 19:22:50</td>\n",
       "      <td>NaN</td>\n",
       "      <td>NaN</td>\n",
       "      <td>37.336197</td>\n",
       "      <td>-121.887706</td>\n",
       "      <td>NaN</td>\n",
       "      <td>NaN</td>\n",
       "      <td>37.332929</td>\n",
       "      <td>-121.875608</td>\n",
       "      <td>502927</td>\n",
       "      <td>Customer</td>\n",
       "      <td>app</td>\n",
       "    </tr>\n",
       "    <tr>\n",
       "      <th>88137</th>\n",
       "      <td>1585</td>\n",
       "      <td>2020-03-22 18:29:25</td>\n",
       "      <td>2020-03-22 18:55:51</td>\n",
       "      <td>355.0</td>\n",
       "      <td>23rd St at Tennessee St</td>\n",
       "      <td>37.755367</td>\n",
       "      <td>-122.388795</td>\n",
       "      <td>NaN</td>\n",
       "      <td>NaN</td>\n",
       "      <td>37.787103</td>\n",
       "      <td>-122.433131</td>\n",
       "      <td>909613</td>\n",
       "      <td>Customer</td>\n",
       "      <td>app</td>\n",
       "    </tr>\n",
       "    <tr>\n",
       "      <th>50432</th>\n",
       "      <td>293</td>\n",
       "      <td>2020-03-03 17:47:54.6690</td>\n",
       "      <td>2020-03-03 17:52:47.9350</td>\n",
       "      <td>123.0</td>\n",
       "      <td>Folsom St at 19th St</td>\n",
       "      <td>37.760594</td>\n",
       "      <td>-122.414817</td>\n",
       "      <td>110.0</td>\n",
       "      <td>17th &amp; Folsom Street Park (17th St at Folsom St)</td>\n",
       "      <td>37.763708</td>\n",
       "      <td>-122.415204</td>\n",
       "      <td>10961</td>\n",
       "      <td>Customer</td>\n",
       "      <td>NaN</td>\n",
       "    </tr>\n",
       "    <tr>\n",
       "      <th>41961</th>\n",
       "      <td>567</td>\n",
       "      <td>2020-03-05 08:29:16.5240</td>\n",
       "      <td>2020-03-05 08:38:43.5820</td>\n",
       "      <td>96.0</td>\n",
       "      <td>Dolores St at 15th St</td>\n",
       "      <td>37.766210</td>\n",
       "      <td>-122.426614</td>\n",
       "      <td>41.0</td>\n",
       "      <td>Golden Gate Ave at Polk St</td>\n",
       "      <td>37.781270</td>\n",
       "      <td>-122.418740</td>\n",
       "      <td>9525</td>\n",
       "      <td>Customer</td>\n",
       "      <td>NaN</td>\n",
       "    </tr>\n",
       "    <tr>\n",
       "      <th>172459</th>\n",
       "      <td>400</td>\n",
       "      <td>2020-03-06 07:25:19</td>\n",
       "      <td>2020-03-06 07:31:59</td>\n",
       "      <td>441.0</td>\n",
       "      <td>Chestnut St at Van Ness Ave</td>\n",
       "      <td>37.802288</td>\n",
       "      <td>-122.424509</td>\n",
       "      <td>419.0</td>\n",
       "      <td>Fern St at Polk St</td>\n",
       "      <td>37.788197</td>\n",
       "      <td>-122.420373</td>\n",
       "      <td>441415</td>\n",
       "      <td>Subscriber</td>\n",
       "      <td>app</td>\n",
       "    </tr>\n",
       "    <tr>\n",
       "      <th>71843</th>\n",
       "      <td>91</td>\n",
       "      <td>2020-03-31 19:24:03</td>\n",
       "      <td>2020-03-31 19:25:34</td>\n",
       "      <td>NaN</td>\n",
       "      <td>NaN</td>\n",
       "      <td>37.334834</td>\n",
       "      <td>-121.895837</td>\n",
       "      <td>314.0</td>\n",
       "      <td>Santa Clara St at Almaden Blvd</td>\n",
       "      <td>37.333988</td>\n",
       "      <td>-121.894902</td>\n",
       "      <td>215122</td>\n",
       "      <td>Subscriber</td>\n",
       "      <td>app</td>\n",
       "    </tr>\n",
       "    <tr>\n",
       "      <th>4548</th>\n",
       "      <td>400</td>\n",
       "      <td>2020-03-24 20:09:21.6980</td>\n",
       "      <td>2020-03-24 20:16:02.2220</td>\n",
       "      <td>203.0</td>\n",
       "      <td>Webster St at 2nd St</td>\n",
       "      <td>37.795195</td>\n",
       "      <td>-122.273970</td>\n",
       "      <td>232.0</td>\n",
       "      <td>MLK Jr Way at 14th St</td>\n",
       "      <td>37.806163</td>\n",
       "      <td>-122.276040</td>\n",
       "      <td>11006</td>\n",
       "      <td>Customer</td>\n",
       "      <td>NaN</td>\n",
       "    </tr>\n",
       "    <tr>\n",
       "      <th>130003</th>\n",
       "      <td>204</td>\n",
       "      <td>2020-03-03 19:42:53</td>\n",
       "      <td>2020-03-03 19:46:18</td>\n",
       "      <td>NaN</td>\n",
       "      <td>NaN</td>\n",
       "      <td>37.777204</td>\n",
       "      <td>-122.449844</td>\n",
       "      <td>NaN</td>\n",
       "      <td>NaN</td>\n",
       "      <td>37.775995</td>\n",
       "      <td>-122.446141</td>\n",
       "      <td>107591</td>\n",
       "      <td>Customer</td>\n",
       "      <td>app</td>\n",
       "    </tr>\n",
       "  </tbody>\n",
       "</table>\n",
       "</div>"
      ],
      "text/plain": [
       "        duration_sec                start_time                  end_time  \\\n",
       "36622           2111  2020-03-06 09:05:28.1050  2020-03-06 09:40:39.3400   \n",
       "94046            489       2020-03-09 18:06:30       2020-03-09 18:14:40   \n",
       "73941            694       2020-03-05 15:25:57       2020-03-05 15:37:32   \n",
       "14170            430  2020-03-13 16:33:55.2510  2020-03-13 16:41:05.8190   \n",
       "96143            629       2020-03-04 08:04:06       2020-03-04 08:14:36   \n",
       "73073            155       2020-03-11 09:54:42       2020-03-11 09:57:18   \n",
       "137702            95       2020-03-29 15:53:52       2020-03-29 15:55:27   \n",
       "119439           870       2020-03-04 18:05:59       2020-03-04 18:20:30   \n",
       "120211           473       2020-03-11 11:31:15       2020-03-11 11:39:09   \n",
       "128647           703       2020-03-06 16:04:19       2020-03-06 16:16:02   \n",
       "22062            612  2020-03-10 22:42:23.4960  2020-03-10 22:52:35.7810   \n",
       "16373            489  2020-03-12 17:51:41.0160  2020-03-12 17:59:50.9340   \n",
       "73774           1818       2020-03-21 18:52:31       2020-03-21 19:22:50   \n",
       "88137           1585       2020-03-22 18:29:25       2020-03-22 18:55:51   \n",
       "50432            293  2020-03-03 17:47:54.6690  2020-03-03 17:52:47.9350   \n",
       "41961            567  2020-03-05 08:29:16.5240  2020-03-05 08:38:43.5820   \n",
       "172459           400       2020-03-06 07:25:19       2020-03-06 07:31:59   \n",
       "71843             91       2020-03-31 19:24:03       2020-03-31 19:25:34   \n",
       "4548             400  2020-03-24 20:09:21.6980  2020-03-24 20:16:02.2220   \n",
       "130003           204       2020-03-03 19:42:53       2020-03-03 19:46:18   \n",
       "\n",
       "        start_station_id            start_station_name  \\\n",
       "36622              163.0     Lake Merritt BART Station   \n",
       "94046                NaN                           NaN   \n",
       "73941                NaN                           NaN   \n",
       "14170              305.0                   Ryland Park   \n",
       "96143              107.0         17th St at Dolores St   \n",
       "73073              310.0     San Fernando St at 4th St   \n",
       "137702             481.0   O'Farrell St at Masonic Ave   \n",
       "119439              75.0      Market St at Franklin St   \n",
       "120211               NaN                           NaN   \n",
       "128647             493.0           Folsom St at 7th St   \n",
       "22062              186.0        Lakeside Dr at 14th St   \n",
       "16373              238.0  MLK Jr Way at University Ave   \n",
       "73774                NaN                           NaN   \n",
       "88137              355.0       23rd St at Tennessee St   \n",
       "50432              123.0          Folsom St at 19th St   \n",
       "41961               96.0         Dolores St at 15th St   \n",
       "172459             441.0   Chestnut St at Van Ness Ave   \n",
       "71843                NaN                           NaN   \n",
       "4548               203.0          Webster St at 2nd St   \n",
       "130003               NaN                           NaN   \n",
       "\n",
       "        start_station_latitude  start_station_longitude  end_station_id  \\\n",
       "36622                37.797320              -122.265320           187.0   \n",
       "94046                37.761094              -122.436172           110.0   \n",
       "73941                37.336406              -121.895223             NaN   \n",
       "14170                37.342725              -121.895617           291.0   \n",
       "96143                37.763015              -122.426497            59.0   \n",
       "73073                37.335885              -121.885660             NaN   \n",
       "137702               37.781131              -122.447374           481.0   \n",
       "119439               37.773793              -122.421239             NaN   \n",
       "120211               37.774317              -122.414141            24.0   \n",
       "128647               37.776664              -122.407908             NaN   \n",
       "22062                37.801319              -122.262642           233.0   \n",
       "16373                37.871719              -122.273068           266.0   \n",
       "73774                37.336197              -121.887706             NaN   \n",
       "88137                37.755367              -122.388795             NaN   \n",
       "50432                37.760594              -122.414817           110.0   \n",
       "41961                37.766210              -122.426614            41.0   \n",
       "172459               37.802288              -122.424509           419.0   \n",
       "71843                37.334834              -121.895837           314.0   \n",
       "4548                 37.795195              -122.273970           232.0   \n",
       "130003               37.777204              -122.449844             NaN   \n",
       "\n",
       "                                        end_station_name  \\\n",
       "36622                                 Jack London Square   \n",
       "94046   17th & Folsom Street Park (17th St at Folsom St)   \n",
       "73941                                                NaN   \n",
       "14170                      Autumn Parkway at Coleman Ave   \n",
       "96143                        S Van Ness Ave at Market St   \n",
       "73073                                                NaN   \n",
       "137702                       O'Farrell St at Masonic Ave   \n",
       "119439                                               NaN   \n",
       "120211                             Spear St at Folsom St   \n",
       "128647                                               NaN   \n",
       "22062          4th Ave at E 12th St (Temporary Location)   \n",
       "16373                             Parker St at Fulton St   \n",
       "73774                                                NaN   \n",
       "88137                                                NaN   \n",
       "50432   17th & Folsom Street Park (17th St at Folsom St)   \n",
       "41961                         Golden Gate Ave at Polk St   \n",
       "172459                                Fern St at Polk St   \n",
       "71843                     Santa Clara St at Almaden Blvd   \n",
       "4548                               MLK Jr Way at 14th St   \n",
       "130003                                               NaN   \n",
       "\n",
       "        end_station_latitude  end_station_longitude  bike_id   user_type  \\\n",
       "36622              37.796248            -122.279352    12894    Customer   \n",
       "94046              37.763708            -122.415204   110177  Subscriber   \n",
       "73941              37.336542            -121.882121   190302  Subscriber   \n",
       "14170              37.341335            -121.903183    12871    Customer   \n",
       "96143              37.774814            -122.418954   586861  Subscriber   \n",
       "73073              37.336027            -121.877377   572289  Subscriber   \n",
       "137702             37.781131            -122.447374   456732  Subscriber   \n",
       "119439             37.748766            -122.420221   909613  Subscriber   \n",
       "120211             37.789677            -122.390428   557324  Subscriber   \n",
       "128647             37.760369            -122.414785   218460    Customer   \n",
       "22062              37.795913            -122.255547     1276    Customer   \n",
       "16373              37.862464            -122.264791     3627    Customer   \n",
       "73774              37.332929            -121.875608   502927    Customer   \n",
       "88137              37.787103            -122.433131   909613    Customer   \n",
       "50432              37.763708            -122.415204    10961    Customer   \n",
       "41961              37.781270            -122.418740     9525    Customer   \n",
       "172459             37.788197            -122.420373   441415  Subscriber   \n",
       "71843              37.333988            -121.894902   215122  Subscriber   \n",
       "4548               37.806163            -122.276040    11006    Customer   \n",
       "130003             37.775995            -122.446141   107591    Customer   \n",
       "\n",
       "       rental_access_method  \n",
       "36622                   NaN  \n",
       "94046               clipper  \n",
       "73941                   app  \n",
       "14170                   NaN  \n",
       "96143                   app  \n",
       "73073                   app  \n",
       "137702                  app  \n",
       "119439                  app  \n",
       "120211                  app  \n",
       "128647                  app  \n",
       "22062                   NaN  \n",
       "16373                   NaN  \n",
       "73774                   app  \n",
       "88137                   app  \n",
       "50432                   NaN  \n",
       "41961                   NaN  \n",
       "172459                  app  \n",
       "71843                   app  \n",
       "4548                    NaN  \n",
       "130003                  app  "
      ]
     },
     "execution_count": 5,
     "metadata": {},
     "output_type": "execute_result"
    }
   ],
   "source": [
    "# Sample of Dataframe\n",
    "df.sample(20)"
   ]
  },
  {
   "cell_type": "code",
   "execution_count": 6,
   "metadata": {},
   "outputs": [
    {
     "data": {
      "text/plain": [
       "(176799, 14)"
      ]
     },
     "execution_count": 6,
     "metadata": {},
     "output_type": "execute_result"
    }
   ],
   "source": [
    "# Shape of Dataframe\n",
    "df.shape"
   ]
  },
  {
   "cell_type": "code",
   "execution_count": 7,
   "metadata": {},
   "outputs": [
    {
     "name": "stdout",
     "output_type": "stream",
     "text": [
      "<class 'pandas.core.frame.DataFrame'>\n",
      "RangeIndex: 176799 entries, 0 to 176798\n",
      "Data columns (total 14 columns):\n",
      " #   Column                   Non-Null Count   Dtype  \n",
      "---  ------                   --------------   -----  \n",
      " 0   duration_sec             176799 non-null  int64  \n",
      " 1   start_time               176799 non-null  object \n",
      " 2   end_time                 176799 non-null  object \n",
      " 3   start_station_id         110696 non-null  float64\n",
      " 4   start_station_name       111349 non-null  object \n",
      " 5   start_station_latitude   176799 non-null  float64\n",
      " 6   start_station_longitude  176799 non-null  float64\n",
      " 7   end_station_id           111097 non-null  float64\n",
      " 8   end_station_name         111794 non-null  object \n",
      " 9   end_station_latitude     176799 non-null  float64\n",
      " 10  end_station_longitude    176799 non-null  float64\n",
      " 11  bike_id                  176799 non-null  int64  \n",
      " 12  user_type                176799 non-null  object \n",
      " 13  rental_access_method     114269 non-null  object \n",
      "dtypes: float64(6), int64(2), object(6)\n",
      "memory usage: 18.9+ MB\n"
     ]
    }
   ],
   "source": [
    "# Info about Dataframe\n",
    "df.info()"
   ]
  },
  {
   "cell_type": "code",
   "execution_count": 8,
   "metadata": {},
   "outputs": [
    {
     "data": {
      "text/plain": [
       "duration_sec                   0\n",
       "start_time                     0\n",
       "end_time                       0\n",
       "start_station_id           66103\n",
       "start_station_name         65450\n",
       "start_station_latitude         0\n",
       "start_station_longitude        0\n",
       "end_station_id             65702\n",
       "end_station_name           65005\n",
       "end_station_latitude           0\n",
       "end_station_longitude          0\n",
       "bike_id                        0\n",
       "user_type                      0\n",
       "rental_access_method       62530\n",
       "dtype: int64"
      ]
     },
     "execution_count": 8,
     "metadata": {},
     "output_type": "execute_result"
    }
   ],
   "source": [
    "# Checking for null values in dataframe\n",
    "df.isnull().sum()"
   ]
  },
  {
   "cell_type": "code",
   "execution_count": 9,
   "metadata": {},
   "outputs": [
    {
     "data": {
      "text/plain": [
       "0"
      ]
     },
     "execution_count": 9,
     "metadata": {},
     "output_type": "execute_result"
    }
   ],
   "source": [
    "# Checking for duplicates in dataframe\n",
    "df.duplicated().sum()"
   ]
  },
  {
   "cell_type": "code",
   "execution_count": 10,
   "metadata": {},
   "outputs": [
    {
     "data": {
      "text/plain": [
       "Subscriber    96262\n",
       "Customer      80537\n",
       "Name: user_type, dtype: int64"
      ]
     },
     "execution_count": 10,
     "metadata": {},
     "output_type": "execute_result"
    }
   ],
   "source": [
    "df.user_type.value_counts()"
   ]
  },
  {
   "cell_type": "code",
   "execution_count": 11,
   "metadata": {},
   "outputs": [
    {
     "data": {
      "text/plain": [
       "app        105515\n",
       "clipper      8754\n",
       "Name: rental_access_method, dtype: int64"
      ]
     },
     "execution_count": 11,
     "metadata": {},
     "output_type": "execute_result"
    }
   ],
   "source": [
    "df.rental_access_method.value_counts()"
   ]
  },
  {
   "cell_type": "code",
   "execution_count": 12,
   "metadata": {},
   "outputs": [
    {
     "data": {
      "text/html": [
       "<div>\n",
       "<style scoped>\n",
       "    .dataframe tbody tr th:only-of-type {\n",
       "        vertical-align: middle;\n",
       "    }\n",
       "\n",
       "    .dataframe tbody tr th {\n",
       "        vertical-align: top;\n",
       "    }\n",
       "\n",
       "    .dataframe thead th {\n",
       "        text-align: right;\n",
       "    }\n",
       "</style>\n",
       "<table border=\"1\" class=\"dataframe\">\n",
       "  <thead>\n",
       "    <tr style=\"text-align: right;\">\n",
       "      <th></th>\n",
       "      <th>duration_sec</th>\n",
       "      <th>start_station_id</th>\n",
       "      <th>start_station_latitude</th>\n",
       "      <th>start_station_longitude</th>\n",
       "      <th>end_station_id</th>\n",
       "      <th>end_station_latitude</th>\n",
       "      <th>end_station_longitude</th>\n",
       "      <th>bike_id</th>\n",
       "    </tr>\n",
       "  </thead>\n",
       "  <tbody>\n",
       "    <tr>\n",
       "      <th>count</th>\n",
       "      <td>176799.000000</td>\n",
       "      <td>110696.000000</td>\n",
       "      <td>176799.000000</td>\n",
       "      <td>176799.000000</td>\n",
       "      <td>111097.000000</td>\n",
       "      <td>176799.000000</td>\n",
       "      <td>176799.000000</td>\n",
       "      <td>176799.000000</td>\n",
       "    </tr>\n",
       "    <tr>\n",
       "      <th>mean</th>\n",
       "      <td>861.590156</td>\n",
       "      <td>185.082261</td>\n",
       "      <td>37.732506</td>\n",
       "      <td>-122.339595</td>\n",
       "      <td>179.244228</td>\n",
       "      <td>37.731290</td>\n",
       "      <td>-122.335029</td>\n",
       "      <td>332033.876114</td>\n",
       "    </tr>\n",
       "    <tr>\n",
       "      <th>std</th>\n",
       "      <td>1528.143090</td>\n",
       "      <td>154.647521</td>\n",
       "      <td>0.170476</td>\n",
       "      <td>0.336403</td>\n",
       "      <td>153.858017</td>\n",
       "      <td>0.278159</td>\n",
       "      <td>0.788013</td>\n",
       "      <td>310588.686471</td>\n",
       "    </tr>\n",
       "    <tr>\n",
       "      <th>min</th>\n",
       "      <td>60.000000</td>\n",
       "      <td>3.000000</td>\n",
       "      <td>0.000000</td>\n",
       "      <td>-122.513814</td>\n",
       "      <td>3.000000</td>\n",
       "      <td>0.000000</td>\n",
       "      <td>-122.529747</td>\n",
       "      <td>17.000000</td>\n",
       "    </tr>\n",
       "    <tr>\n",
       "      <th>25%</th>\n",
       "      <td>374.000000</td>\n",
       "      <td>58.000000</td>\n",
       "      <td>37.763708</td>\n",
       "      <td>-122.421339</td>\n",
       "      <td>53.000000</td>\n",
       "      <td>37.763848</td>\n",
       "      <td>-122.420377</td>\n",
       "      <td>11695.000000</td>\n",
       "    </tr>\n",
       "    <tr>\n",
       "      <th>50%</th>\n",
       "      <td>602.000000</td>\n",
       "      <td>125.000000</td>\n",
       "      <td>37.776598</td>\n",
       "      <td>-122.403969</td>\n",
       "      <td>121.000000</td>\n",
       "      <td>37.776598</td>\n",
       "      <td>-122.403234</td>\n",
       "      <td>299042.000000</td>\n",
       "    </tr>\n",
       "    <tr>\n",
       "      <th>75%</th>\n",
       "      <td>963.000000</td>\n",
       "      <td>321.000000</td>\n",
       "      <td>37.789677</td>\n",
       "      <td>-122.390648</td>\n",
       "      <td>309.000000</td>\n",
       "      <td>37.789747</td>\n",
       "      <td>-122.390648</td>\n",
       "      <td>551560.000000</td>\n",
       "    </tr>\n",
       "    <tr>\n",
       "      <th>max</th>\n",
       "      <td>84450.000000</td>\n",
       "      <td>521.000000</td>\n",
       "      <td>37.880222</td>\n",
       "      <td>0.000000</td>\n",
       "      <td>521.000000</td>\n",
       "      <td>37.995942</td>\n",
       "      <td>0.000000</td>\n",
       "      <td>999960.000000</td>\n",
       "    </tr>\n",
       "  </tbody>\n",
       "</table>\n",
       "</div>"
      ],
      "text/plain": [
       "        duration_sec  start_station_id  start_station_latitude  \\\n",
       "count  176799.000000     110696.000000           176799.000000   \n",
       "mean      861.590156        185.082261               37.732506   \n",
       "std      1528.143090        154.647521                0.170476   \n",
       "min        60.000000          3.000000                0.000000   \n",
       "25%       374.000000         58.000000               37.763708   \n",
       "50%       602.000000        125.000000               37.776598   \n",
       "75%       963.000000        321.000000               37.789677   \n",
       "max     84450.000000        521.000000               37.880222   \n",
       "\n",
       "       start_station_longitude  end_station_id  end_station_latitude  \\\n",
       "count            176799.000000   111097.000000         176799.000000   \n",
       "mean               -122.339595      179.244228             37.731290   \n",
       "std                   0.336403      153.858017              0.278159   \n",
       "min                -122.513814        3.000000              0.000000   \n",
       "25%                -122.421339       53.000000             37.763848   \n",
       "50%                -122.403969      121.000000             37.776598   \n",
       "75%                -122.390648      309.000000             37.789747   \n",
       "max                   0.000000      521.000000             37.995942   \n",
       "\n",
       "       end_station_longitude        bike_id  \n",
       "count          176799.000000  176799.000000  \n",
       "mean             -122.335029  332033.876114  \n",
       "std                 0.788013  310588.686471  \n",
       "min              -122.529747      17.000000  \n",
       "25%              -122.420377   11695.000000  \n",
       "50%              -122.403234  299042.000000  \n",
       "75%              -122.390648  551560.000000  \n",
       "max                 0.000000  999960.000000  "
      ]
     },
     "execution_count": 12,
     "metadata": {},
     "output_type": "execute_result"
    }
   ],
   "source": [
    "# Brief description of dataframe\n",
    "df.describe()"
   ]
  },
  {
   "cell_type": "markdown",
   "metadata": {},
   "source": [
    "> ## Assessing Report \n",
    "\n",
    "* start_time,end_time are not in datetime format\n",
    "* start_station_id,end_station_id,bike_id are not in string format.\n",
    "* user_type,rental_access_method should be a categorical datatype.\n",
    "* Add 3 new columns start_hour,start_day,duration_min.\n",
    "* Removing Unnecessary columns start_station_name, end_station_name"
   ]
  },
  {
   "cell_type": "markdown",
   "metadata": {},
   "source": [
    "<a id='clean'></a>\n",
    "> ## C. Data Cleaning"
   ]
  },
  {
   "cell_type": "code",
   "execution_count": 13,
   "metadata": {},
   "outputs": [],
   "source": [
    "# Creting a copy of the dataset\n",
    "df_clean = df.copy()"
   ]
  },
  {
   "cell_type": "code",
   "execution_count": 14,
   "metadata": {},
   "outputs": [],
   "source": [
    "# Changing the columns Datatypes\n",
    "\n",
    "# to_daterime\n",
    "df_clean['start_time'] = pd.to_datetime(df_clean['start_time'])\n",
    "df_clean['end_time'] = pd.to_datetime(df_clean['end_time'])\n",
    "\n",
    "# to_str\n",
    "df_clean['start_station_id'] = df_clean.start_station_id.astype('str')\n",
    "df_clean['end_station_id'] = df_clean.start_station_id.astype('str')\n",
    "df_clean['bike_id'] = df_clean.start_station_id.astype('str')\n",
    "\n",
    "# to_categorie\n",
    "df_clean['user_type'] = df_clean.user_type.astype('category')\n",
    "df_clean['rental_access_method'] = df_clean.rental_access_method.astype('category')"
   ]
  },
  {
   "cell_type": "code",
   "execution_count": 15,
   "metadata": {},
   "outputs": [
    {
     "name": "stdout",
     "output_type": "stream",
     "text": [
      "<class 'pandas.core.frame.DataFrame'>\n",
      "RangeIndex: 176799 entries, 0 to 176798\n",
      "Data columns (total 14 columns):\n",
      " #   Column                   Non-Null Count   Dtype         \n",
      "---  ------                   --------------   -----         \n",
      " 0   duration_sec             176799 non-null  int64         \n",
      " 1   start_time               176799 non-null  datetime64[ns]\n",
      " 2   end_time                 176799 non-null  datetime64[ns]\n",
      " 3   start_station_id         176799 non-null  object        \n",
      " 4   start_station_name       111349 non-null  object        \n",
      " 5   start_station_latitude   176799 non-null  float64       \n",
      " 6   start_station_longitude  176799 non-null  float64       \n",
      " 7   end_station_id           176799 non-null  object        \n",
      " 8   end_station_name         111794 non-null  object        \n",
      " 9   end_station_latitude     176799 non-null  float64       \n",
      " 10  end_station_longitude    176799 non-null  float64       \n",
      " 11  bike_id                  176799 non-null  object        \n",
      " 12  user_type                176799 non-null  category      \n",
      " 13  rental_access_method     114269 non-null  category      \n",
      "dtypes: category(2), datetime64[ns](2), float64(4), int64(1), object(5)\n",
      "memory usage: 16.5+ MB\n"
     ]
    }
   ],
   "source": [
    "# Testing for changes\n",
    "df_clean.info()"
   ]
  },
  {
   "cell_type": "code",
   "execution_count": 16,
   "metadata": {},
   "outputs": [],
   "source": [
    "# Creating 4 new columns start_hour, start_day, start_month, duration_min\n",
    "\n",
    "df_clean['duration_min'] = df_clean['duration_sec'] / 60\n",
    "df_clean['start_hour'] = df_clean.start_time.dt.strftime('%H')\n",
    "df_clean['start_day'] = df_clean.start_time.dt.strftime('%A').astype('category')\n",
    "\n",
    "# Changing datatype of duration_min column\n",
    "df_clean['duration_min'] = df_clean.duration_min.astype('int')"
   ]
  },
  {
   "cell_type": "code",
   "execution_count": 17,
   "metadata": {},
   "outputs": [
    {
     "data": {
      "text/html": [
       "<div>\n",
       "<style scoped>\n",
       "    .dataframe tbody tr th:only-of-type {\n",
       "        vertical-align: middle;\n",
       "    }\n",
       "\n",
       "    .dataframe tbody tr th {\n",
       "        vertical-align: top;\n",
       "    }\n",
       "\n",
       "    .dataframe thead th {\n",
       "        text-align: right;\n",
       "    }\n",
       "</style>\n",
       "<table border=\"1\" class=\"dataframe\">\n",
       "  <thead>\n",
       "    <tr style=\"text-align: right;\">\n",
       "      <th></th>\n",
       "      <th>duration_sec</th>\n",
       "      <th>start_time</th>\n",
       "      <th>end_time</th>\n",
       "      <th>start_station_id</th>\n",
       "      <th>start_station_name</th>\n",
       "      <th>start_station_latitude</th>\n",
       "      <th>start_station_longitude</th>\n",
       "      <th>end_station_id</th>\n",
       "      <th>end_station_name</th>\n",
       "      <th>end_station_latitude</th>\n",
       "      <th>end_station_longitude</th>\n",
       "      <th>bike_id</th>\n",
       "      <th>user_type</th>\n",
       "      <th>rental_access_method</th>\n",
       "      <th>duration_min</th>\n",
       "      <th>start_hour</th>\n",
       "      <th>start_day</th>\n",
       "    </tr>\n",
       "  </thead>\n",
       "  <tbody>\n",
       "    <tr>\n",
       "      <th>0</th>\n",
       "      <td>35187</td>\n",
       "      <td>2020-03-31 20:42:10.079</td>\n",
       "      <td>2020-04-01 06:28:37.844</td>\n",
       "      <td>462.0</td>\n",
       "      <td>Cruise Terminal at Pier 27</td>\n",
       "      <td>37.804648</td>\n",
       "      <td>-122.402087</td>\n",
       "      <td>462.0</td>\n",
       "      <td>Spear St at Folsom St</td>\n",
       "      <td>37.789677</td>\n",
       "      <td>-122.390428</td>\n",
       "      <td>462.0</td>\n",
       "      <td>Customer</td>\n",
       "      <td>NaN</td>\n",
       "      <td>586</td>\n",
       "      <td>20</td>\n",
       "      <td>Tuesday</td>\n",
       "    </tr>\n",
       "    <tr>\n",
       "      <th>1</th>\n",
       "      <td>14568</td>\n",
       "      <td>2020-03-31 22:45:25.501</td>\n",
       "      <td>2020-04-01 02:48:13.773</td>\n",
       "      <td>42.0</td>\n",
       "      <td>San Francisco City Hall (Polk St at Grove St)</td>\n",
       "      <td>37.778650</td>\n",
       "      <td>-122.418230</td>\n",
       "      <td>42.0</td>\n",
       "      <td>Jones St at Post St</td>\n",
       "      <td>37.787327</td>\n",
       "      <td>-122.413278</td>\n",
       "      <td>42.0</td>\n",
       "      <td>Customer</td>\n",
       "      <td>NaN</td>\n",
       "      <td>242</td>\n",
       "      <td>22</td>\n",
       "      <td>Tuesday</td>\n",
       "    </tr>\n",
       "    <tr>\n",
       "      <th>2</th>\n",
       "      <td>35990</td>\n",
       "      <td>2020-03-31 15:08:22.331</td>\n",
       "      <td>2020-04-01 01:08:12.990</td>\n",
       "      <td>391.0</td>\n",
       "      <td>1st St at Younger Ave</td>\n",
       "      <td>37.355030</td>\n",
       "      <td>-121.904436</td>\n",
       "      <td>391.0</td>\n",
       "      <td>Gish Rd at 1st St</td>\n",
       "      <td>37.361867</td>\n",
       "      <td>-121.909315</td>\n",
       "      <td>391.0</td>\n",
       "      <td>Customer</td>\n",
       "      <td>NaN</td>\n",
       "      <td>599</td>\n",
       "      <td>15</td>\n",
       "      <td>Tuesday</td>\n",
       "    </tr>\n",
       "    <tr>\n",
       "      <th>3</th>\n",
       "      <td>1068</td>\n",
       "      <td>2020-03-31 23:55:00.426</td>\n",
       "      <td>2020-04-01 00:12:49.020</td>\n",
       "      <td>456.0</td>\n",
       "      <td>Arguello Blvd at Geary Blvd</td>\n",
       "      <td>37.781468</td>\n",
       "      <td>-122.458806</td>\n",
       "      <td>456.0</td>\n",
       "      <td>17th St at Dolores St</td>\n",
       "      <td>37.763015</td>\n",
       "      <td>-122.426497</td>\n",
       "      <td>456.0</td>\n",
       "      <td>Customer</td>\n",
       "      <td>NaN</td>\n",
       "      <td>17</td>\n",
       "      <td>23</td>\n",
       "      <td>Tuesday</td>\n",
       "    </tr>\n",
       "    <tr>\n",
       "      <th>4</th>\n",
       "      <td>3300</td>\n",
       "      <td>2020-03-31 23:00:55.641</td>\n",
       "      <td>2020-03-31 23:55:56.611</td>\n",
       "      <td>6.0</td>\n",
       "      <td>The Embarcadero at Sansome St</td>\n",
       "      <td>37.804770</td>\n",
       "      <td>-122.403234</td>\n",
       "      <td>6.0</td>\n",
       "      <td>Spear St at Folsom St</td>\n",
       "      <td>37.789677</td>\n",
       "      <td>-122.390428</td>\n",
       "      <td>6.0</td>\n",
       "      <td>Customer</td>\n",
       "      <td>NaN</td>\n",
       "      <td>55</td>\n",
       "      <td>23</td>\n",
       "      <td>Tuesday</td>\n",
       "    </tr>\n",
       "  </tbody>\n",
       "</table>\n",
       "</div>"
      ],
      "text/plain": [
       "   duration_sec              start_time                end_time  \\\n",
       "0         35187 2020-03-31 20:42:10.079 2020-04-01 06:28:37.844   \n",
       "1         14568 2020-03-31 22:45:25.501 2020-04-01 02:48:13.773   \n",
       "2         35990 2020-03-31 15:08:22.331 2020-04-01 01:08:12.990   \n",
       "3          1068 2020-03-31 23:55:00.426 2020-04-01 00:12:49.020   \n",
       "4          3300 2020-03-31 23:00:55.641 2020-03-31 23:55:56.611   \n",
       "\n",
       "  start_station_id                             start_station_name  \\\n",
       "0            462.0                     Cruise Terminal at Pier 27   \n",
       "1             42.0  San Francisco City Hall (Polk St at Grove St)   \n",
       "2            391.0                          1st St at Younger Ave   \n",
       "3            456.0                    Arguello Blvd at Geary Blvd   \n",
       "4              6.0                  The Embarcadero at Sansome St   \n",
       "\n",
       "   start_station_latitude  start_station_longitude end_station_id  \\\n",
       "0               37.804648              -122.402087          462.0   \n",
       "1               37.778650              -122.418230           42.0   \n",
       "2               37.355030              -121.904436          391.0   \n",
       "3               37.781468              -122.458806          456.0   \n",
       "4               37.804770              -122.403234            6.0   \n",
       "\n",
       "        end_station_name  end_station_latitude  end_station_longitude bike_id  \\\n",
       "0  Spear St at Folsom St             37.789677            -122.390428   462.0   \n",
       "1    Jones St at Post St             37.787327            -122.413278    42.0   \n",
       "2      Gish Rd at 1st St             37.361867            -121.909315   391.0   \n",
       "3  17th St at Dolores St             37.763015            -122.426497   456.0   \n",
       "4  Spear St at Folsom St             37.789677            -122.390428     6.0   \n",
       "\n",
       "  user_type rental_access_method  duration_min start_hour start_day  \n",
       "0  Customer                  NaN           586         20   Tuesday  \n",
       "1  Customer                  NaN           242         22   Tuesday  \n",
       "2  Customer                  NaN           599         15   Tuesday  \n",
       "3  Customer                  NaN            17         23   Tuesday  \n",
       "4  Customer                  NaN            55         23   Tuesday  "
      ]
     },
     "execution_count": 17,
     "metadata": {},
     "output_type": "execute_result"
    }
   ],
   "source": [
    "# Testing for results\n",
    "df_clean.head()"
   ]
  },
  {
   "cell_type": "code",
   "execution_count": 18,
   "metadata": {},
   "outputs": [
    {
     "name": "stdout",
     "output_type": "stream",
     "text": [
      "<class 'pandas.core.frame.DataFrame'>\n",
      "RangeIndex: 176799 entries, 0 to 176798\n",
      "Data columns (total 17 columns):\n",
      " #   Column                   Non-Null Count   Dtype         \n",
      "---  ------                   --------------   -----         \n",
      " 0   duration_sec             176799 non-null  int64         \n",
      " 1   start_time               176799 non-null  datetime64[ns]\n",
      " 2   end_time                 176799 non-null  datetime64[ns]\n",
      " 3   start_station_id         176799 non-null  object        \n",
      " 4   start_station_name       111349 non-null  object        \n",
      " 5   start_station_latitude   176799 non-null  float64       \n",
      " 6   start_station_longitude  176799 non-null  float64       \n",
      " 7   end_station_id           176799 non-null  object        \n",
      " 8   end_station_name         111794 non-null  object        \n",
      " 9   end_station_latitude     176799 non-null  float64       \n",
      " 10  end_station_longitude    176799 non-null  float64       \n",
      " 11  bike_id                  176799 non-null  object        \n",
      " 12  user_type                176799 non-null  category      \n",
      " 13  rental_access_method     114269 non-null  category      \n",
      " 14  duration_min             176799 non-null  int32         \n",
      " 15  start_hour               176799 non-null  object        \n",
      " 16  start_day                176799 non-null  category      \n",
      "dtypes: category(3), datetime64[ns](2), float64(4), int32(1), int64(1), object(6)\n",
      "memory usage: 18.7+ MB\n"
     ]
    }
   ],
   "source": [
    "# Checking for Dtypes\n",
    "df_clean.info()"
   ]
  },
  {
   "cell_type": "code",
   "execution_count": 19,
   "metadata": {},
   "outputs": [],
   "source": [
    "# Droping the unnecessary coloums start_station_name, end_station_name\n",
    "df_clean.drop(['start_station_name','end_station_name'], axis = 1,inplace = True)"
   ]
  },
  {
   "cell_type": "code",
   "execution_count": 20,
   "metadata": {},
   "outputs": [
    {
     "data": {
      "text/plain": [
       "Index(['duration_sec', 'start_time', 'end_time', 'start_station_id',\n",
       "       'start_station_latitude', 'start_station_longitude', 'end_station_id',\n",
       "       'end_station_latitude', 'end_station_longitude', 'bike_id', 'user_type',\n",
       "       'rental_access_method', 'duration_min', 'start_hour', 'start_day'],\n",
       "      dtype='object')"
      ]
     },
     "execution_count": 20,
     "metadata": {},
     "output_type": "execute_result"
    }
   ],
   "source": [
    "# Checking for the exisitance of columns\n",
    "df_clean.columns"
   ]
  },
  {
   "cell_type": "code",
   "execution_count": 21,
   "metadata": {},
   "outputs": [
    {
     "data": {
      "text/plain": [
       "(176799, 15)"
      ]
     },
     "execution_count": 21,
     "metadata": {},
     "output_type": "execute_result"
    }
   ],
   "source": [
    "df_clean.shape"
   ]
  },
  {
   "cell_type": "markdown",
   "metadata": {},
   "source": [
    "## What is the Structure of dataset?\n",
    "\n",
    "The original combined data contains approximately 1,766,000 individual trip records with 16 variables collected. The variables can be divided into 3 major categories:\n",
    "\n",
    "* trip_duration : *duration_sec,start_time,end_time*\n",
    "* station_info : *start_station_id,start_station_latitude, start_station_longitude, end_station_id,end_station_latitude, end_station_longitude*.\n",
    "* member's info : *bike_id, user_type,rental_access_method*\n",
    "\n",
    "Derived Features for analysis:\n",
    "\n",
    "* trip info : *start_hour, start_day,duration_min*\n",
    "\n",
    "### What features in the dataset do you think will help support your investigation into your feature(s) of interest?\n",
    "\n",
    "Each trip's start date/time and duration information will help understanding how long a trip usually takes and when. The member information like user type, rental access method will help us find out who are the main target customer groups, use the different groups to summarize bike usage data to see if there is any special pattern associated with a specific group of riders."
   ]
  },
  {
   "cell_type": "markdown",
   "metadata": {},
   "source": [
    "<a id='visual'></a>\n",
    "# Part-II : Data Visualization"
   ]
  },
  {
   "cell_type": "markdown",
   "metadata": {},
   "source": [
    "<a id='uni'></a>\n",
    "> ## A .Univariate Exploration"
   ]
  },
  {
   "cell_type": "code",
   "execution_count": 22,
   "metadata": {},
   "outputs": [
    {
     "data": {
      "image/png": "[encoded data removed]",
      "text/plain": [
       "<Figure size 432x288 with 1 Axes>"
      ]
     },
     "metadata": {
      "needs_background": "light"
     },
     "output_type": "display_data"
    }
   ],
   "source": [
    "# Trip distribution over hours\n",
    "\n",
    "base_color = sns.color_palette()[0]\n",
    "sns.countplot(data = df_clean , x ='start_hour' , color = base_color)\n",
    "plt.xlabel('Hours of Day')\n",
    "plt.ylabel('Counts');"
   ]
  },
  {
   "cell_type": "code",
   "execution_count": 23,
   "metadata": {},
   "outputs": [
    {
     "data": {
      "image/png": "[encoded data removed]",
      "text/plain": [
       "<Figure size 432x288 with 1 Axes>"
      ]
     },
     "metadata": {
      "needs_background": "light"
     },
     "output_type": "display_data"
    }
   ],
   "source": [
    "# Trip distribution over week days\n",
    "\n",
    "weekday = ['Monday', 'Tuesday', 'Wednesday', 'Thursday', 'Friday', 'Saturday', 'Sunday']\n",
    "weekdaycat = pd.api.types.CategoricalDtype(ordered=True, categories=weekday)\n",
    "df_clean['start_day'] = df_clean['start_day'].astype(weekdaycat)\n",
    "\n",
    "base_color = sns.color_palette()[0]\n",
    "order = df_clean['start_day'].value_counts().index\n",
    "\n",
    "sns.countplot(data = df_clean , x ='start_day' , color = base_color, order = order)\n",
    "plt.xlabel('Week Days')\n",
    "plt.ylabel('Counts')\n",
    "plt.xticks(rotation = 15);"
   ]
  },
  {
   "cell_type": "markdown",
   "metadata": {},
   "source": [
    "In the Months of March & April, \n",
    "* The **trip distribution over hours** is high at two times, in the evening (i.e, 4 P.M to 7 P.M) and in the morning (i.e, 7 A.M to 10 A.M) and is low during the night time.\n",
    "* The **Trip distribution over week days** is high at Monday, Tuesday and Wednesday and is low at Saturday."
   ]
  },
  {
   "cell_type": "code",
   "execution_count": 24,
   "metadata": {},
   "outputs": [
    {
     "data": {
      "image/png": "[encoded data removed]",
      "text/plain": [
       "<Figure size 432x288 with 1 Axes>"
      ]
     },
     "metadata": {
      "needs_background": "light"
     },
     "output_type": "display_data"
    }
   ],
   "source": [
    "sns.countplot(data = df_clean , x = 'user_type')\n",
    "plt.xlabel('User Type')\n",
    "plt.ylabel('Count');"
   ]
  },
  {
   "cell_type": "code",
   "execution_count": 25,
   "metadata": {},
   "outputs": [
    {
     "data": {
      "image/png": "[encoded data removed]",
      "text/plain": [
       "<Figure size 432x288 with 1 Axes>"
      ]
     },
     "metadata": {
      "needs_background": "light"
     },
     "output_type": "display_data"
    }
   ],
   "source": [
    "sns.countplot(data = df_clean, x = 'rental_access_method')\n",
    "plt.xlabel('Rental Method')\n",
    "plt.ylabel('Count');"
   ]
  },
  {
   "cell_type": "code",
   "execution_count": 26,
   "metadata": {},
   "outputs": [
    {
     "data": {
      "text/plain": [
       "count    176799.000000\n",
       "mean         13.869965\n",
       "std          25.469611\n",
       "min           1.000000\n",
       "25%           6.000000\n",
       "50%          10.000000\n",
       "75%          16.000000\n",
       "max        1407.000000\n",
       "Name: duration_min, dtype: float64"
      ]
     },
     "execution_count": 26,
     "metadata": {},
     "output_type": "execute_result"
    }
   ],
   "source": [
    "df_clean['duration_min'].describe()"
   ]
  },
  {
   "cell_type": "code",
   "execution_count": 27,
   "metadata": {},
   "outputs": [
    {
     "data": {
      "image/png": "[encoded data removed]",
      "text/plain": [
       "<Figure size 432x288 with 1 Axes>"
      ]
     },
     "metadata": {
      "needs_background": "light"
     },
     "output_type": "display_data"
    }
   ],
   "source": [
    "# Trip duration in minutes\n",
    "\n",
    "bins = np.arange(1 ,df_clean['duration_min'].max()+3, 1 )\n",
    "plt.hist(data = df_clean,x = 'duration_min' , bins = bins)\n",
    "plt.xlim((0,70))\n",
    "plt.xlabel('Duration (in min.)')\n",
    "plt.ylabel('Count');"
   ]
  },
  {
   "cell_type": "markdown",
   "metadata": {},
   "source": [
    "From the above Visualizations : \n",
    "* It looks like Most of the riders are `Subscriber`\n",
    "* The Mode of rental accessed is from the `app`\n",
    "* Majority of trip duration is less than `One Hour`."
   ]
  },
  {
   "cell_type": "code",
   "execution_count": 28,
   "metadata": {},
   "outputs": [
    {
     "name": "stdout",
     "output_type": "stream",
     "text": [
      "<class 'pandas.core.frame.DataFrame'>\n",
      "Int64Index: 173566 entries, 3 to 176798\n",
      "Data columns (total 15 columns):\n",
      " #   Column                   Non-Null Count   Dtype         \n",
      "---  ------                   --------------   -----         \n",
      " 0   duration_sec             173566 non-null  int64         \n",
      " 1   start_time               173566 non-null  datetime64[ns]\n",
      " 2   end_time                 173566 non-null  datetime64[ns]\n",
      " 3   start_station_id         173566 non-null  object        \n",
      " 4   start_station_latitude   173566 non-null  float64       \n",
      " 5   start_station_longitude  173566 non-null  float64       \n",
      " 6   end_station_id           173566 non-null  object        \n",
      " 7   end_station_latitude     173566 non-null  float64       \n",
      " 8   end_station_longitude    173566 non-null  float64       \n",
      " 9   bike_id                  173566 non-null  object        \n",
      " 10  user_type                173566 non-null  category      \n",
      " 11  rental_access_method     112189 non-null  category      \n",
      " 12  duration_min             173566 non-null  int32         \n",
      " 13  start_hour               173566 non-null  object        \n",
      " 14  start_day                173566 non-null  category      \n",
      "dtypes: category(3), datetime64[ns](2), float64(4), int32(1), int64(1), object(4)\n",
      "memory usage: 17.0+ MB\n"
     ]
    }
   ],
   "source": [
    "# Removing the outliers\n",
    "\n",
    "df_clean = df_clean.query('duration_min <= 60')\n",
    "df_clean.info(null_counts=True)"
   ]
  },
  {
   "cell_type": "markdown",
   "metadata": {},
   "source": [
    "<a id='bi'></a>\n",
    "> ## Bivariate Exploration\n",
    "How does the trip duration distribution vary between customers and subscribers?"
   ]
  },
  {
   "cell_type": "code",
   "execution_count": 29,
   "metadata": {},
   "outputs": [
    {
     "data": {
      "image/png": "[encoded data removed]",
      "text/plain": [
       "<Figure size 432x288 with 1 Axes>"
      ]
     },
     "metadata": {
      "needs_background": "light"
     },
     "output_type": "display_data"
    }
   ],
   "source": [
    "sns.violinplot(data = df_clean, x = 'user_type' , y = 'duration_min', color = base_color, inner = 'quartile')\n",
    "plt.xlabel('User Type')\n",
    "plt.ylabel('Duration (in min.)');"
   ]
  },
  {
   "cell_type": "code",
   "execution_count": 30,
   "metadata": {},
   "outputs": [
    {
     "data": {
      "image/png": "[encoded data removed]",
      "text/plain": [
       "<Figure size 432x288 with 1 Axes>"
      ]
     },
     "metadata": {
      "needs_background": "light"
     },
     "output_type": "display_data"
    }
   ],
   "source": [
    "sns.barplot(data = df_clean, x = 'user_type' , y = 'duration_min')\n",
    "plt.xlabel('User Type')\n",
    "plt.ylabel('Duration (in min.)');"
   ]
  },
  {
   "cell_type": "markdown",
   "metadata": {},
   "source": [
    "The trip duration for subscriber is short and it over quickly as compare to customers as they rented the bikes for loger time duration.\n",
    "\n",
    "\n",
    "Average Trip Duration on Weekdays"
   ]
  },
  {
   "cell_type": "code",
   "execution_count": 31,
   "metadata": {},
   "outputs": [
    {
     "data": {
      "image/png": "[encoded data removed]",
      "text/plain": [
       "<Figure size 576x360 with 1 Axes>"
      ]
     },
     "metadata": {
      "needs_background": "light"
     },
     "output_type": "display_data"
    }
   ],
   "source": [
    "weekday = ['Monday', 'Tuesday', 'Wednesday', 'Thursday', 'Friday', 'Saturday', 'Sunday']\n",
    "weekdaycat = pd.api.types.CategoricalDtype(ordered=True, categories=weekday)\n",
    "df_clean['start_day'] = df_clean['start_day'].astype(weekdaycat)\n",
    "\n",
    "fig_dims = (8,5)\n",
    "fig, ax = plt.subplots(figsize=fig_dims)\n",
    "sns.barplot(data = df_clean , x = 'start_day' , y = 'duration_min', color = base_color, ax =ax)\n",
    "plt.xlabel('Week Days')\n",
    "plt.ylabel('Duration (in min.)')\n",
    "plt.xticks(rotation = 15);"
   ]
  },
  {
   "cell_type": "code",
   "execution_count": 32,
   "metadata": {},
   "outputs": [
    {
     "data": {
      "image/png": "[encoded data removed]",
      "text/plain": [
       "<Figure size 576x360 with 1 Axes>"
      ]
     },
     "metadata": {
      "needs_background": "light"
     },
     "output_type": "display_data"
    }
   ],
   "source": [
    "fig_dims = (8,5)\n",
    "fig, ax = plt.subplots(figsize=fig_dims)\n",
    "base_color = sns.color_palette()[0]\n",
    "sns.boxplot(data = df_clean, x = 'start_day', y = 'duration_min', color = base_color, ax = ax)\n",
    "plt.xlabel('Week Days')\n",
    "plt.ylabel('Duration (in min.)')\n",
    "plt.xticks(rotation = 15);"
   ]
  },
  {
   "cell_type": "markdown",
   "metadata": {},
   "source": [
    "The riding trips are much shorter on Monday through Friday compared to weekends. It indicates that most people are more flexible on weekends than the weekdays.\n",
    "\n",
    "Average trip duration by hour"
   ]
  },
  {
   "cell_type": "code",
   "execution_count": 36,
   "metadata": {},
   "outputs": [
    {
     "data": {
      "image/png": "[encoded data removed]",
      "text/plain": [
       "<Figure size 576x360 with 1 Axes>"
      ]
     },
     "metadata": {
      "needs_background": "light"
     },
     "output_type": "display_data"
    }
   ],
   "source": [
    "fig_dims = (8,5)\n",
    "fig, ax = plt.subplots(figsize=fig_dims)\n",
    "sns.barplot(data = df_clean , x = 'start_hour' , y = 'duration_min', color = base_color,ax = ax)\n",
    "plt.xlabel('Hours')\n",
    "plt.ylabel('Duration (in min.)');"
   ]
  },
  {
   "cell_type": "markdown",
   "metadata": {},
   "source": [
    "* The duration of trips are higher at evening i.e, 4 P.M to 6 P.M.\n",
    "* It's also high at 3 A.M, It may be because of empty roads and Sea of Stars in the sky.\n",
    "\n",
    "Weekly Usage between Subscriber and Customer."
   ]
  },
  {
   "cell_type": "code",
   "execution_count": 37,
   "metadata": {},
   "outputs": [
    {
     "data": {
      "image/png": "[encoded data removed]",
      "text/plain": [
       "<Figure size 576x360 with 1 Axes>"
      ]
     },
     "metadata": {
      "needs_background": "light"
     },
     "output_type": "display_data"
    }
   ],
   "source": [
    "weekday = ['Monday', 'Tuesday', 'Wednesday', 'Thursday', 'Friday', 'Saturday', 'Sunday']\n",
    "weekdaycat = pd.api.types.CategoricalDtype(ordered=True, categories=weekday)\n",
    "df_clean['start_day'] = df_clean['start_day'].astype(weekdaycat)\n",
    "\n",
    "fig_dims = (8,5)\n",
    "fig, ax = plt.subplots(figsize=fig_dims)\n",
    "sns.countplot(data = df_clean , x = 'start_day', hue = 'user_type', ax = ax)\n",
    "plt.xlabel('Week Days')\n",
    "plt.ylabel('Counts');"
   ]
  },
  {
   "cell_type": "markdown",
   "metadata": {},
   "source": [
    "Subscriber usage clearly peaks out on typical rush hours when people go to work in the morning and getting off work in the afternoon, double confirmed their usage purpose and goal of riding. Similar pattern was not observed among customers who tend to ride most in the afternoon or early evening as for a different purpose than the subscriber riders.\n",
    "\n",
    "Daily Usage between Subscriber and regular Customer."
   ]
  },
  {
   "cell_type": "code",
   "execution_count": 38,
   "metadata": {},
   "outputs": [
    {
     "data": {
      "image/png": "[encoded data removed]",
      "text/plain": [
       "<Figure size 720x360 with 1 Axes>"
      ]
     },
     "metadata": {
      "needs_background": "light"
     },
     "output_type": "display_data"
    }
   ],
   "source": [
    "fig_dims = (10,5)\n",
    "fig, ax = plt.subplots(figsize=fig_dims)\n",
    "sns.countplot(data = df_clean , x = 'start_hour', hue = 'user_type', ax = ax)\n",
    "plt.xlabel('Hours')\n",
    "plt.ylabel('Counts');"
   ]
  },
  {
   "cell_type": "code",
   "execution_count": 39,
   "metadata": {},
   "outputs": [
    {
     "data": {
      "image/png": "[encoded data removed]",
      "text/plain": [
       "<Figure size 576x360 with 1 Axes>"
      ]
     },
     "metadata": {
      "needs_background": "light"
     },
     "output_type": "display_data"
    }
   ],
   "source": [
    "fig_dims = (8,5)\n",
    "fig, ax = plt.subplots(figsize=fig_dims)\n",
    "sns.countplot(data = df_clean , x = 'rental_access_method', hue = 'user_type', ax = ax)\n",
    "plt.xlabel('Rental Method')\n",
    "plt.ylabel('Count');"
   ]
  },
  {
   "cell_type": "markdown",
   "metadata": {},
   "source": [
    "From the plot it looks like the rental method is done mostly from apps rather than clipper and most of them are Subscribers'."
   ]
  },
  {
   "cell_type": "markdown",
   "metadata": {},
   "source": [
    "<a id='multi'></a>\n",
    "> ## Multivariate Exploration\n",
    "\n",
    "How does the average trip duration vary in weekdays between customers and subscribers?"
   ]
  },
  {
   "cell_type": "code",
   "execution_count": 40,
   "metadata": {},
   "outputs": [
    {
     "data": {
      "image/png": "[encoded data removed]",
      "text/plain": [
       "<Figure size 576x360 with 1 Axes>"
      ]
     },
     "metadata": {
      "needs_background": "light"
     },
     "output_type": "display_data"
    }
   ],
   "source": [
    "fig_dims = (8,5)\n",
    "fig, ax = plt.subplots(figsize=fig_dims)\n",
    "sns.pointplot(data = df_clean, x='start_day', y='duration_min', hue='user_type',ax = ax, dodge=0.3, linestyles=\"\");\n",
    "plt.xlabel('Day of Week');\n",
    "plt.ylabel('Avg. Trip Duration in Minute');"
   ]
  },
  {
   "cell_type": "markdown",
   "metadata": {},
   "source": [
    "It can be seen from the above plot that subscribers ride much shorter trips compared to customers on each day of the week. Both user types have an obvious increase of trip duration on Saturdays and Sundays over weekends, especially for casual riders. Subscribers usage seems to be more efficient than customers overall and maintained a very consistent average duration Monday through Friday.\n",
    "\n",
    "How does the hourly usage vary during weekdays for customers and subscribers?"
   ]
  },
  {
   "cell_type": "code",
   "execution_count": 41,
   "metadata": {},
   "outputs": [
    {
     "data": {
      "image/png": "[encoded data removed]",
      "text/plain": [
       "<Figure size 864x1512 with 14 Axes>"
      ]
     },
     "metadata": {
      "needs_background": "light"
     },
     "output_type": "display_data"
    }
   ],
   "source": [
    "g = sns.FacetGrid(data = df_clean ,row = 'start_day', col ='user_type' , margin_titles = True, aspect = 2)\n",
    "g.map(plt.hist, 'start_hour');"
   ]
  },
  {
   "cell_type": "code",
   "execution_count": 44,
   "metadata": {},
   "outputs": [
    {
     "data": {
      "text/plain": [
       "<Figure size 432x288 with 0 Axes>"
      ]
     },
     "metadata": {},
     "output_type": "display_data"
    },
    {
     "data": {
      "image/png": "[encoded data removed]",
      "text/plain": [
       "<Figure size 1058.4x595.44 with 2 Axes>"
      ]
     },
     "metadata": {
      "needs_background": "light"
     },
     "output_type": "display_data"
    },
    {
     "data": {
      "image/png": "[encoded data removed]",
      "text/plain": [
       "<Figure size 1058.4x595.44 with 2 Axes>"
      ]
     },
     "metadata": {
      "needs_background": "light"
     },
     "output_type": "display_data"
    }
   ],
   "source": [
    "plt.suptitle('Hourly Usage during Weekdays for Customers and Subscribers');\n",
    "\n",
    "f, axs = plt.subplots(1,figsize=(14.70, 8.27));\n",
    "customers = df_clean.query('user_type == \"Customer\"');\n",
    "ct_counts = customers.groupby(['start_day', 'start_hour']).size();\n",
    "ct_counts = ct_counts.reset_index(name='count');\n",
    "ct_counts = ct_counts.pivot(index='start_day', columns='start_hour', values='count');\n",
    "sns.heatmap(ct_counts, cmap='viridis_r');\n",
    "plt.title('Customer', loc='right');\n",
    "plt.xlabel('Hour of Day');\n",
    "plt.ylabel('Day of Week');\n",
    "\n",
    "f, axs = plt.subplots(1,figsize=(14.70, 8.27));\n",
    "subscribers = df_clean.query('user_type == \"Subscriber\"');\n",
    "st_counts = subscribers.groupby(['start_day', 'start_hour']).size();\n",
    "st_counts = st_counts.reset_index(name='count');\n",
    "st_counts = st_counts.pivot(index='start_day', columns='start_hour', values='count');\n",
    "sns.heatmap(st_counts, cmap='viridis_r');\n",
    "plt.title('Subscriber', loc='right');\n",
    "plt.xlabel('Hour of Day');\n",
    "plt.ylabel('Day of Week');"
   ]
  },
  {
   "cell_type": "markdown",
   "metadata": {},
   "source": [
    "The heatmaps shows clearly very similar usage pattern/habit between the two type of riders. Subscribers use the system heavily on work days i.e. Monday through Friday as well as customers also ride a lot on weekends, especially in the afternoon. Many trips concentrated around 8-9am and 17-18pm on work days for subscribers when used for work commute, yet customers tend to use more in the late afternoon around 17pm Monday to Friday. Other than usage purpose and habit, it may also have to do with the traffic situation around these rush hours in the area."
   ]
  },
  {
   "cell_type": "code",
   "execution_count": 43,
   "metadata": {},
   "outputs": [],
   "source": [
    "df_clean.to_csv('CommDataFindings.csv', index = False)"
   ]
  }
 ],
 "metadata": {
  "kernelspec": {
   "display_name": "Python 3",
   "language": "python",
   "name": "python3"
  },
  "language_info": {
   "codemirror_mode": {
    "name": "ipython",
    "version": 3
   },
   "file_extension": ".py",
   "mimetype": "text/x-python",
   "name": "python",
   "nbconvert_exporter": "python",
   "pygments_lexer": "ipython3",
   "version": "3.7.7"
  }
 },
 "nbformat": 4,
 "nbformat_minor": 4
}
